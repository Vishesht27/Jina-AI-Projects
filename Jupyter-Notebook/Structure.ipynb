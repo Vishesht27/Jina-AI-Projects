{
  "nbformat": 4,
  "nbformat_minor": 0,
  "metadata": {
    "colab": {
      "name": "JinaAI.ipynb",
      "provenance": [],
      "collapsed_sections": []
    },
    "kernelspec": {
      "name": "python3",
      "display_name": "Python 3"
    },
    "language_info": {
      "name": "python"
    },
    "accelerator": "GPU"
  },
  "cells": [
    {
      "cell_type": "code",
      "metadata": {
        "id": "DJ5QKkyVxjZQ",
        "colab": {
          "base_uri": "https://localhost:8080/"
        },
        "outputId": "9b480486-71ce-43f9-ecb5-4e8a7f7dd2e6"
      },
      "source": [
        "pip install -U \"jina[standard]\""
      ],
      "execution_count": null,
      "outputs": [
        {
          "output_type": "stream",
          "text": [
            "Collecting jina[standard]\n",
            "  Downloading jina-2.0.13.tar.gz (292 kB)\n",
            "\u001b[K     |████████████████████████████████| 292 kB 7.1 MB/s \n",
            "\u001b[?25hRequirement already satisfied: grpcio>=1.33.1 in /usr/local/lib/python3.7/dist-packages (from jina[standard]) (1.34.1)\n",
            "Requirement already satisfied: tornado>=5.1.0 in /usr/local/lib/python3.7/dist-packages (from jina[standard]) (5.1.1)\n",
            "Requirement already satisfied: numpy in /usr/local/lib/python3.7/dist-packages (from jina[standard]) (1.19.5)\n",
            "Collecting pyyaml>=5.3.1\n",
            "  Downloading PyYAML-5.4.1-cp37-cp37m-manylinux1_x86_64.whl (636 kB)\n",
            "\u001b[K     |████████████████████████████████| 636 kB 12.9 MB/s \n",
            "\u001b[?25hRequirement already satisfied: pyzmq>=17.1.0 in /usr/local/lib/python3.7/dist-packages (from jina[standard]) (22.1.0)\n",
            "Requirement already satisfied: protobuf>=3.13.0 in /usr/local/lib/python3.7/dist-packages (from jina[standard]) (3.17.3)\n",
            "Requirement already satisfied: filelock in /usr/local/lib/python3.7/dist-packages (from jina[standard]) (3.0.12)\n",
            "Collecting uvloop\n",
            "  Downloading uvloop-0.15.3-cp37-cp37m-manylinux_2_12_x86_64.manylinux2010_x86_64.whl (3.8 MB)\n",
            "\u001b[K     |████████████████████████████████| 3.8 MB 24.2 MB/s \n",
            "\u001b[?25hCollecting docker\n",
            "  Downloading docker-5.0.0-py2.py3-none-any.whl (146 kB)\n",
            "\u001b[K     |████████████████████████████████| 146 kB 61.0 MB/s \n",
            "\u001b[?25hCollecting websockets\n",
            "  Downloading websockets-9.1-cp37-cp37m-manylinux2010_x86_64.whl (103 kB)\n",
            "\u001b[K     |████████████████████████████████| 103 kB 55.7 MB/s \n",
            "\u001b[?25hCollecting rich\n",
            "  Downloading rich-10.6.0-py3-none-any.whl (208 kB)\n",
            "\u001b[K     |████████████████████████████████| 208 kB 58.9 MB/s \n",
            "\u001b[?25hCollecting cryptography\n",
            "  Downloading cryptography-3.4.7-cp36-abi3-manylinux2014_x86_64.whl (3.2 MB)\n",
            "\u001b[K     |████████████████████████████████| 3.2 MB 57.9 MB/s \n",
            "\u001b[?25hCollecting aiohttp\n",
            "  Downloading aiohttp-3.7.4.post0-cp37-cp37m-manylinux2014_x86_64.whl (1.3 MB)\n",
            "\u001b[K     |████████████████████████████████| 1.3 MB 47.5 MB/s \n",
            "\u001b[?25hCollecting aiostream\n",
            "  Downloading aiostream-0.4.3.tar.gz (20 kB)\n",
            "Collecting fastapi\n",
            "  Downloading fastapi-0.68.0-py3-none-any.whl (52 kB)\n",
            "\u001b[K     |████████████████████████████████| 52 kB 926 kB/s \n",
            "\u001b[?25hCollecting aiofiles\n",
            "  Downloading aiofiles-0.7.0-py3-none-any.whl (13 kB)\n",
            "Requirement already satisfied: requests in /usr/local/lib/python3.7/dist-packages (from jina[standard]) (2.23.0)\n",
            "Collecting pathspec\n",
            "  Downloading pathspec-0.9.0-py2.py3-none-any.whl (31 kB)\n",
            "Collecting python-multipart\n",
            "  Downloading python-multipart-0.0.5.tar.gz (32 kB)\n",
            "Collecting uvicorn[standard]>=0.14.0\n",
            "  Downloading uvicorn-0.14.0-py3-none-any.whl (50 kB)\n",
            "\u001b[K     |████████████████████████████████| 50 kB 7.8 MB/s \n",
            "\u001b[?25hCollecting lz4<3.1.2\n",
            "  Downloading lz4-3.1.1-cp37-cp37m-manylinux2010_x86_64.whl (1.8 MB)\n",
            "\u001b[K     |████████████████████████████████| 1.8 MB 65.3 MB/s \n",
            "\u001b[?25hCollecting pydantic\n",
            "  Downloading pydantic-1.8.2-cp37-cp37m-manylinux2014_x86_64.whl (10.1 MB)\n",
            "\u001b[K     |████████████████████████████████| 10.1 MB 20.7 MB/s \n",
            "\u001b[?25hRequirement already satisfied: six>=1.5.2 in /usr/local/lib/python3.7/dist-packages (from grpcio>=1.33.1->jina[standard]) (1.15.0)\n",
            "Requirement already satisfied: click>=7.* in /usr/local/lib/python3.7/dist-packages (from uvicorn[standard]>=0.14.0->jina[standard]) (7.1.2)\n",
            "Collecting asgiref>=3.3.4\n",
            "  Downloading asgiref-3.4.1-py3-none-any.whl (25 kB)\n",
            "Collecting h11>=0.8\n",
            "  Downloading h11-0.12.0-py3-none-any.whl (54 kB)\n",
            "\u001b[K     |████████████████████████████████| 54 kB 4.2 MB/s \n",
            "\u001b[?25hRequirement already satisfied: typing-extensions in /usr/local/lib/python3.7/dist-packages (from uvicorn[standard]>=0.14.0->jina[standard]) (3.7.4.3)\n",
            "Collecting watchgod>=0.6\n",
            "  Downloading watchgod-0.7-py3-none-any.whl (11 kB)\n",
            "Collecting httptools==0.2.*\n",
            "  Downloading httptools-0.2.0-cp37-cp37m-manylinux1_x86_64.whl (344 kB)\n",
            "\u001b[K     |████████████████████████████████| 344 kB 59.9 MB/s \n",
            "\u001b[?25hCollecting python-dotenv>=0.13\n",
            "  Downloading python_dotenv-0.19.0-py2.py3-none-any.whl (17 kB)\n",
            "Collecting multidict<7.0,>=4.5\n",
            "  Downloading multidict-5.1.0-cp37-cp37m-manylinux2014_x86_64.whl (142 kB)\n",
            "\u001b[K     |████████████████████████████████| 142 kB 67.9 MB/s \n",
            "\u001b[?25hRequirement already satisfied: attrs>=17.3.0 in /usr/local/lib/python3.7/dist-packages (from aiohttp->jina[standard]) (21.2.0)\n",
            "Collecting async-timeout<4.0,>=3.0\n",
            "  Downloading async_timeout-3.0.1-py3-none-any.whl (8.2 kB)\n",
            "Collecting yarl<2.0,>=1.0\n",
            "  Downloading yarl-1.6.3-cp37-cp37m-manylinux2014_x86_64.whl (294 kB)\n",
            "\u001b[K     |████████████████████████████████| 294 kB 66.9 MB/s \n",
            "\u001b[?25hRequirement already satisfied: chardet<5.0,>=2.0 in /usr/local/lib/python3.7/dist-packages (from aiohttp->jina[standard]) (3.0.4)\n",
            "Requirement already satisfied: idna>=2.0 in /usr/local/lib/python3.7/dist-packages (from yarl<2.0,>=1.0->aiohttp->jina[standard]) (2.10)\n",
            "Requirement already satisfied: cffi>=1.12 in /usr/local/lib/python3.7/dist-packages (from cryptography->jina[standard]) (1.14.6)\n",
            "Requirement already satisfied: pycparser in /usr/local/lib/python3.7/dist-packages (from cffi>=1.12->cryptography->jina[standard]) (2.20)\n",
            "Collecting websocket-client>=0.32.0\n",
            "  Downloading websocket_client-1.1.0-py2.py3-none-any.whl (68 kB)\n",
            "\u001b[K     |████████████████████████████████| 68 kB 7.0 MB/s \n",
            "\u001b[?25hRequirement already satisfied: urllib3!=1.25.0,!=1.25.1,<1.26,>=1.21.1 in /usr/local/lib/python3.7/dist-packages (from requests->jina[standard]) (1.24.3)\n",
            "Requirement already satisfied: certifi>=2017.4.17 in /usr/local/lib/python3.7/dist-packages (from requests->jina[standard]) (2021.5.30)\n",
            "Collecting starlette==0.14.2\n",
            "  Downloading starlette-0.14.2-py3-none-any.whl (60 kB)\n",
            "\u001b[K     |████████████████████████████████| 60 kB 9.2 MB/s \n",
            "\u001b[?25hRequirement already satisfied: pygments<3.0.0,>=2.6.0 in /usr/local/lib/python3.7/dist-packages (from rich->jina[standard]) (2.6.1)\n",
            "Collecting colorama<0.5.0,>=0.4.0\n",
            "  Downloading colorama-0.4.4-py2.py3-none-any.whl (16 kB)\n",
            "Collecting commonmark<0.10.0,>=0.9.0\n",
            "  Downloading commonmark-0.9.1-py2.py3-none-any.whl (51 kB)\n",
            "\u001b[K     |████████████████████████████████| 51 kB 9.2 MB/s \n",
            "\u001b[?25hBuilding wheels for collected packages: jina, aiostream, python-multipart\n",
            "  Building wheel for jina (setup.py) ... \u001b[?25l\u001b[?25hdone\n",
            "  Created wheel for jina: filename=jina-2.0.13-py3-none-any.whl size=366319 sha256=cdf70f9259cb5f4a26245802d6f8c48e0e55126cc9d745a566aa22d920a4cc2c\n",
            "  Stored in directory: /root/.cache/pip/wheels/db/09/7a/0ab46f32a5fdd04797d4bb32e37116f585dc13db4db40b1ac0\n",
            "  Building wheel for aiostream (setup.py) ... \u001b[?25l\u001b[?25hdone\n",
            "  Created wheel for aiostream: filename=aiostream-0.4.3-py3-none-any.whl size=23367 sha256=9138b72d609317aaa77dbb869feaff8812e5ab571d4454b7652393644052f454\n",
            "  Stored in directory: /root/.cache/pip/wheels/52/60/13/86a9ae6ddb88776d2bb7369e05853252d9803f1fb325a5e990\n",
            "  Building wheel for python-multipart (setup.py) ... \u001b[?25l\u001b[?25hdone\n",
            "  Created wheel for python-multipart: filename=python_multipart-0.0.5-py3-none-any.whl size=31679 sha256=740232de2c431e653edefd0b8f40cbe235455a5d17980474f9d3d313881fc8eb\n",
            "  Stored in directory: /root/.cache/pip/wheels/2c/41/7c/bfd1c180534ffdcc0972f78c5758f89881602175d48a8bcd2c\n",
            "Successfully built jina aiostream python-multipart\n",
            "Installing collected packages: multidict, h11, asgiref, yarl, websockets, websocket-client, watchgod, uvloop, uvicorn, starlette, pyyaml, python-dotenv, pydantic, httptools, commonmark, colorama, async-timeout, rich, python-multipart, pathspec, lz4, jina, fastapi, docker, cryptography, aiostream, aiohttp, aiofiles\n",
            "  Attempting uninstall: pyyaml\n",
            "    Found existing installation: PyYAML 3.13\n",
            "    Uninstalling PyYAML-3.13:\n",
            "      Successfully uninstalled PyYAML-3.13\n",
            "Successfully installed aiofiles-0.7.0 aiohttp-3.7.4.post0 aiostream-0.4.3 asgiref-3.4.1 async-timeout-3.0.1 colorama-0.4.4 commonmark-0.9.1 cryptography-3.4.7 docker-5.0.0 fastapi-0.68.0 h11-0.12.0 httptools-0.2.0 jina-2.0.13 lz4-3.1.1 multidict-5.1.0 pathspec-0.9.0 pydantic-1.8.2 python-dotenv-0.19.0 python-multipart-0.0.5 pyyaml-5.4.1 rich-10.6.0 starlette-0.14.2 uvicorn-0.14.0 uvloop-0.15.3 watchgod-0.7 websocket-client-1.1.0 websockets-9.1 yarl-1.6.3\n"
          ],
          "name": "stdout"
        }
      ]
    },
    {
      "cell_type": "code",
      "metadata": {
        "colab": {
          "base_uri": "https://localhost:8080/"
        },
        "id": "iZ2860qHQcH8",
        "outputId": "17f78dde-7f4a-4570-bf2a-6223579552b3"
      },
      "source": [
        "!pip install jina"
      ],
      "execution_count": null,
      "outputs": [
        {
          "output_type": "stream",
          "text": [
            "Requirement already satisfied: jina in /usr/local/lib/python3.7/dist-packages (2.0.13)\n",
            "Requirement already satisfied: pyzmq>=17.1.0 in /usr/local/lib/python3.7/dist-packages (from jina) (22.1.0)\n",
            "Requirement already satisfied: protobuf>=3.13.0 in /usr/local/lib/python3.7/dist-packages (from jina) (3.17.3)\n",
            "Requirement already satisfied: tornado>=5.1.0 in /usr/local/lib/python3.7/dist-packages (from jina) (5.1.1)\n",
            "Requirement already satisfied: numpy in /usr/local/lib/python3.7/dist-packages (from jina) (1.19.5)\n",
            "Requirement already satisfied: grpcio>=1.33.1 in /usr/local/lib/python3.7/dist-packages (from jina) (1.34.1)\n",
            "Requirement already satisfied: pyyaml>=5.3.1 in /usr/local/lib/python3.7/dist-packages (from jina) (5.4.1)\n",
            "Requirement already satisfied: six>=1.5.2 in /usr/local/lib/python3.7/dist-packages (from grpcio>=1.33.1->jina) (1.15.0)\n"
          ],
          "name": "stdout"
        }
      ]
    },
    {
      "cell_type": "code",
      "metadata": {
        "colab": {
          "base_uri": "https://localhost:8080/",
          "height": 131
        },
        "id": "bIfrOb6zS_SK",
        "outputId": "aa160c27-f250-4f02-dafd-acc0a469d052"
      },
      "source": [
        "from jina import hello\n",
        "jina hello --help"
      ],
      "execution_count": null,
      "outputs": [
        {
          "output_type": "error",
          "ename": "SyntaxError",
          "evalue": "ignored",
          "traceback": [
            "\u001b[0;36m  File \u001b[0;32m\"<ipython-input-3-ec8a3fb4c267>\"\u001b[0;36m, line \u001b[0;32m2\u001b[0m\n\u001b[0;31m    jina hello --help\u001b[0m\n\u001b[0m             ^\u001b[0m\n\u001b[0;31mSyntaxError\u001b[0m\u001b[0;31m:\u001b[0m invalid syntax\n"
          ]
        }
      ]
    },
    {
      "cell_type": "code",
      "metadata": {
        "id": "zGPkAYl5TVX_"
      },
      "source": [
        "import numpy as np\n",
        "from jina import Document, DocumentArray, Executor, Flow, requests"
      ],
      "execution_count": null,
      "outputs": []
    },
    {
      "cell_type": "code",
      "metadata": {
        "id": "IzG14idsTbUz"
      },
      "source": [
        "class CharEmbed(Executor):  # a simple character embedding with mean-pooling\n",
        "    offset = 32  # letter `a`\n",
        "    dim = 127 - offset + 1  # last pos reserved for `UNK`\n",
        "    char_embd = np.eye(dim) * 1  # one-hot embedding for all chars\n",
        "\n",
        "    @requests\n",
        "    def foo(self, docs: DocumentArray, **kwargs):\n",
        "        for d in docs:\n",
        "            r_emb = [ord(c) - self.offset if self.offset <= ord(c) <= 127 else (self.dim - 1) for c in d.text]\n",
        "            d.embedding = self.char_embd[r_emb, :].mean(axis=0)  # mean-pooling"
      ],
      "execution_count": null,
      "outputs": []
    },
    {
      "cell_type": "code",
      "metadata": {
        "id": "HHen0jMjTdSD"
      },
      "source": [
        "class Indexer(Executor):\n",
        "    _docs = DocumentArray()  # for storing all document in memory\n",
        "\n",
        "    @requests(on='/index')\n",
        "    def foo(self, docs: DocumentArray, **kwargs):\n",
        "        self._docs.extend(docs)  # extend stored `docs`\n",
        "\n",
        "    @requests(on='/search')\n",
        "    def bar(self, docs: DocumentArray, **kwargs):\n",
        "        q = np.stack(docs.get_attributes('embedding'))  # get all embedding from query docs\n",
        "        d = np.stack(self._docs.get_attributes('embedding'))  # get all embedding from stored docs\n",
        "        euclidean_dist = np.linalg.norm(q[:, None, :] - d[None, :, :], axis=-1)  # pairwise euclidean distance\n",
        "        for dist, query in zip(euclidean_dist, docs):  # add & sort match\n",
        "            query.matches = [Document(self._docs[int(idx)], copy=True, scores={'euclid': d}) for idx, d in enumerate(dist)]\n",
        "            query.matches.sort(key=lambda m: m.scores['euclid'].value)  # sort matches by its value"
      ],
      "execution_count": null,
      "outputs": []
    },
    {
      "cell_type": "code",
      "metadata": {
        "id": "JYSlv-6TTfcc"
      },
      "source": [
        "def print_matches(req):  # the callback function invoked when task is done\n",
        "    for idx, d in enumerate(req.docs[0].matches[:3]):  # print top-3 matches\n",
        "        print(f'[{idx}]{d.scores[\"euclid\"].value:2f}: \"{d.text}\"')"
      ],
      "execution_count": null,
      "outputs": []
    },
    {
      "cell_type": "code",
      "metadata": {
        "colab": {
          "base_uri": "https://localhost:8080/"
        },
        "id": "9J2LQ2pWThlP",
        "outputId": "36c80233-8b01-430f-ae43-f901028c0e30"
      },
      "source": [
        "f = Flow(port_expose=12345).add(uses=CharEmbed, parallel=2).add(uses=Indexer)  # build a Flow, with 2 parallel CharEmbed, tho unnecessary\n",
        "\n",
        "source_code = \"\"\"\n",
        "import numpy as np\n",
        "from jina import Document, DocumentArray, Executor, Flow, requests\n",
        "class CharEmbed(Executor):  # a simple character embedding with mean-pooling\n",
        "    offset = 32  # letter `a`\n",
        "    dim = 127 - offset + 1  # last pos reserved for `UNK`\n",
        "    char_embd = np.eye(dim) * 1  # one-hot embedding for all chars\n",
        "    @requests\n",
        "    def foo(self, docs: DocumentArray, **kwargs):\n",
        "        for d in docs:\n",
        "            r_emb = [ord(c) - self.offset if self.offset <= ord(c) <= 127 else (self.dim - 1) for c in d.text]\n",
        "            d.embedding = self.char_embd[r_emb, :].mean(axis=0)  # average pooling\n",
        "class Indexer(Executor):\n",
        "    _docs = DocumentArray()  # for storing all documents in memory\n",
        "    @requests(on='/index')\n",
        "    def foo(self, docs: DocumentArray, **kwargs):\n",
        "        self._docs.extend(docs)  # extend stored `docs`\n",
        "    @requests(on='/search')\n",
        "    def bar(self, docs: DocumentArray, **kwargs):\n",
        "        q = np.stack(docs.get_attributes('embedding'))  # get all embeddings from query docs\n",
        "        d = np.stack(self._docs.get_attributes('embedding'))  # get all embeddings from stored docs\n",
        "        euclidean_dist = np.linalg.norm(q[:, None, :] - d[None, :, :], axis=-1)  # pairwise euclidean distance\n",
        "        for dist, query in zip(euclidean_dist, docs):  # add & sort match\n",
        "            query.matches = [Document(self._docs[int(idx)], copy=True, scores={'euclid': d}) for idx, d in enumerate(dist)]\n",
        "            query.matches.sort(key=lambda m: m.scores['euclid'].value)  # sort matches by their values\n",
        "f = Flow(port_expose=12345, protocol='http', cors=True).add(uses=CharEmbed, parallel=2).add(uses=Indexer)  # build a Flow, with 2 parallel CharEmbed, tho unnecessary\n",
        "with f:\n",
        "    f.post('/index', DocumentArray([Document(text=t.strip()) for t in source_code.split('\\n') if t.strip() ])) # index all lines of this notebook's source code\n",
        "    f.post('/search', Document(text='@request(on=something)'), on_done=print_matches)\n",
        "\"\"\"\n",
        "\n",
        "with f:\n",
        "    f.post('/index', DocumentArray([Document(text=t.strip()) for t in source_code.split('\\n') if t.strip() ])) # index all lines of this notebook's source code\n",
        "    f.post('/search', Document(text='@request(on=something)'), on_done=print_matches)\n"
      ],
      "execution_count": null,
      "outputs": [
        {
          "output_type": "stream",
          "text": [
            "\u001b[32m      pod0/head@62[L]:ready and listening\u001b[0m\n",
            "\u001b[32m     pod0/pea-0@62[L]:ready and listening\u001b[0m\n",
            "\u001b[32m     pod0/pea-1@62[L]:ready and listening\u001b[0m\n",
            "\u001b[32m      pod0/tail@62[L]:ready and listening\u001b[0m\n",
            "\u001b[32m           pod1@62[L]:ready and listening\u001b[0m\n",
            "\u001b[32m        gateway@62[L]:ready and listening\u001b[0m\n",
            "           Flow@62[I]:🎉 Flow is ready to use!\n",
            "\t🔗 Protocol: \t\t\u001b[1mGRPC\u001b[0m\n",
            "\t🏠 Local access:\t\u001b[4m\u001b[36m0.0.0.0:12345\u001b[0m\n",
            "\t🔒 Private network:\t\u001b[4m\u001b[36m172.28.0.2:12345\u001b[0m\n",
            "\t🌐 Public address:\t\u001b[4m\u001b[36m34.125.118.210\n",
            ":12345\u001b[0m\u001b[0m\n",
            "[0]0.123462: \"f.post('/search', Document(text='@request(on=something)'), on_done=print_matches)\"\n",
            "[1]0.157459: \"@requests(on='/index')\"\n",
            "[2]0.171835: \"@requests(on='/search')\"\n"
          ],
          "name": "stdout"
        }
      ]
    },
    {
      "cell_type": "code",
      "metadata": {
        "id": "dqBXELHExqdJ"
      },
      "source": [
        "import IPython\n",
        "IPython.display.HTML(filename='/path/to/your/filename')"
      ],
      "execution_count": null,
      "outputs": []
    }
  ]
}